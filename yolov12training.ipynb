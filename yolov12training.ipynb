{
 "cells": [
  {
   "cell_type": "code",
   "execution_count": null,
   "id": "2a05eec0",
   "metadata": {},
   "outputs": [],
   "source": [
    "\"\"\"\n",
    "Train a YOLOv12 model with train / val / test splits.\n",
    "Make sure you've installed ultralytics inside your virtual environment:\n",
    "    pip install ultralytics\n",
    "\"\"\"\n",
    "\n",
    "from ultralytics import YOLO\n",
    "\n",
    "# ────────────────────────────────────────────────────────────────\n",
    "# 1️⃣ Load the model (YOLOv12n as example — you can pick s, m, l, etc.)\n",
    "# ────────────────────────────────────────────────────────────────\n",
    "model = YOLO(\"yolov12n.pt\")   # can also use 'yolov12s.pt' or custom weights\n",
    "\n",
    "# ────────────────────────────────────────────────────────────────\n",
    "# 2️⃣ Define your dataset YAML path\n",
    "# The YAML should include train, val, and test like this:\n",
    "#\n",
    "# train: dataset/train/images\n",
    "# val: dataset/val/images\n",
    "# test: dataset/test/images\n",
    "# nc: 3\n",
    "# names: [class1, class2, class3]\n",
    "# ────────────────────────────────────────────────────────────────\n",
    "DATA_YAML = \"data.yaml\"   # ← change this to your actual dataset yaml path\n",
    "\n",
    "# ────────────────────────────────────────────────────────────────\n",
    "# 3️⃣ Train the model\n",
    "# ────────────────────────────────────────────────────────────────\n",
    "model.train(\n",
    "    data=DATA_YAML,\n",
    "    epochs=100,\n",
    "    imgsz=640,\n",
    "    batch=16,\n",
    "    device=0,      # 0 for GPU, 'cpu' if no GPU\n",
    "    workers=4\n",
    ")\n",
    "\n",
    "# ────────────────────────────────────────────────────────────────\n",
    "# 4️⃣ Validate on the val set (automatically done during training)\n",
    "# But you can explicitly validate again if you want\n",
    "# ────────────────────────────────────────────────────────────────\n",
    "model.val(data=DATA_YAML, split='val')\n",
    "\n",
    "# ────────────────────────────────────────────────────────────────\n",
    "# 5️⃣ Evaluate on the test set (AFTER training!)\n",
    "# This uses the same model, but different data split\n",
    "# ────────────────────────────────────────────────────────────────\n",
    "model.val(data=DATA_YAML, split='test')\n",
    "\n",
    "# ────────────────────────────────────────────────────────────────\n",
    "# 6️⃣ (Optional) Export the trained model to other formats\n",
    "# ────────────────────────────────────────────────────────────────\n",
    "model.export(format=\"onnx\")   # can also use \"torchscript\", \"coreml\", etc.\n",
    "\n",
    "print(\"✅ Training, validation, and testing completed successfully!\")\n"
   ]
  },
  {
   "cell_type": "code",
   "execution_count": null,
   "id": "d53e1b34",
   "metadata": {},
   "outputs": [],
   "source": [
    "\n"
   ]
  }
 ],
 "metadata": {
  "language_info": {
   "name": "python"
  }
 },
 "nbformat": 4,
 "nbformat_minor": 5
}
