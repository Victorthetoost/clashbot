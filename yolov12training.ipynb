{
 "cells": [
  {
   "cell_type": "code",
   "execution_count": null,
   "id": "2a05eec0",
   "metadata": {},
   "outputs": [],
   "source": [
    "from ultralytics import YOLO\n",
    "\n",
    "# 1. Load a YOLOv12 model\n",
    "# You can use a pretrained checkpoint or start from scratch\n",
    "model = YOLO('yolov12n.pt')  # or 'yolov12s.pt', 'yolov12m.pt', etc.\n",
    "\n",
    "# 2. Train the model\n",
    "model.train(\n",
    "    data='path/to/data.yaml',   # path to your dataset YAML\n",
    "    epochs=100,                 # number of epochs\n",
    "    imgsz=640,                  # image size\n",
    "    batch=16,                   # adjust depending on GPU memory\n",
    "    device=0                    # set to 'cpu' or '0' for GPU\n",
    ")\n"
   ]
  },
  {
   "cell_type": "code",
   "execution_count": null,
   "id": "d53e1b34",
   "metadata": {},
   "outputs": [],
   "source": [
    "train: path/to/train/images\n",
    "val: path/to/val/images\n",
    "\n",
    "nc: 3  # number of classes\n",
    "names: ['class1', 'class2', 'class3']\n"
   ]
  }
 ],
 "metadata": {
  "language_info": {
   "name": "python"
  }
 },
 "nbformat": 4,
 "nbformat_minor": 5
}
